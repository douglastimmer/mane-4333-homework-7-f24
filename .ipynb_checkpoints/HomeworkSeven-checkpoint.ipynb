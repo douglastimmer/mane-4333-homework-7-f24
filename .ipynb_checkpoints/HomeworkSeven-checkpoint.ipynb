{
 "cells": [
  {
   "cell_type": "markdown",
   "metadata": {},
   "source": [
    "# MANE 4333\n",
    "## Homework 7 (due November 18, 2024)\n",
    "## Your Name"
   ]
  },
  {
   "cell_type": "code",
   "execution_count": 1,
   "metadata": {},
   "outputs": [
    {
     "data": {
      "text/html": [
       "<div>\n",
       "<style scoped>\n",
       "    .dataframe tbody tr th:only-of-type {\n",
       "        vertical-align: middle;\n",
       "    }\n",
       "\n",
       "    .dataframe tbody tr th {\n",
       "        vertical-align: top;\n",
       "    }\n",
       "\n",
       "    .dataframe thead th {\n",
       "        text-align: right;\n",
       "    }\n",
       "</style>\n",
       "<table border=\"1\" class=\"dataframe\">\n",
       "  <thead>\n",
       "    <tr style=\"text-align: right;\">\n",
       "      <th></th>\n",
       "      <th>pIncidence</th>\n",
       "      <th>pTilt</th>\n",
       "      <th>llAngle</th>\n",
       "      <th>sSlope</th>\n",
       "      <th>pRadius</th>\n",
       "      <th>spon</th>\n",
       "      <th>classification</th>\n",
       "    </tr>\n",
       "  </thead>\n",
       "  <tbody>\n",
       "    <tr>\n",
       "      <th>0</th>\n",
       "      <td>39.06</td>\n",
       "      <td>10.06</td>\n",
       "      <td>25.02</td>\n",
       "      <td>29.00</td>\n",
       "      <td>114.41</td>\n",
       "      <td>4.56</td>\n",
       "      <td>AB</td>\n",
       "    </tr>\n",
       "    <tr>\n",
       "      <th>1</th>\n",
       "      <td>68.83</td>\n",
       "      <td>22.22</td>\n",
       "      <td>50.09</td>\n",
       "      <td>46.61</td>\n",
       "      <td>105.99</td>\n",
       "      <td>-3.53</td>\n",
       "      <td>AB</td>\n",
       "    </tr>\n",
       "    <tr>\n",
       "      <th>2</th>\n",
       "      <td>69.30</td>\n",
       "      <td>24.65</td>\n",
       "      <td>44.31</td>\n",
       "      <td>44.64</td>\n",
       "      <td>101.87</td>\n",
       "      <td>11.21</td>\n",
       "      <td>AB</td>\n",
       "    </tr>\n",
       "    <tr>\n",
       "      <th>3</th>\n",
       "      <td>49.71</td>\n",
       "      <td>9.65</td>\n",
       "      <td>28.32</td>\n",
       "      <td>40.06</td>\n",
       "      <td>108.17</td>\n",
       "      <td>7.92</td>\n",
       "      <td>AB</td>\n",
       "    </tr>\n",
       "    <tr>\n",
       "      <th>4</th>\n",
       "      <td>40.25</td>\n",
       "      <td>13.92</td>\n",
       "      <td>25.12</td>\n",
       "      <td>26.33</td>\n",
       "      <td>130.33</td>\n",
       "      <td>2.23</td>\n",
       "      <td>AB</td>\n",
       "    </tr>\n",
       "  </tbody>\n",
       "</table>\n",
       "</div>"
      ],
      "text/plain": [
       "   pIncidence  pTilt  llAngle  sSlope  pRadius   spon classification\n",
       "0       39.06  10.06    25.02   29.00   114.41   4.56             AB\n",
       "1       68.83  22.22    50.09   46.61   105.99  -3.53             AB\n",
       "2       69.30  24.65    44.31   44.64   101.87  11.21             AB\n",
       "3       49.71   9.65    28.32   40.06   108.17   7.92             AB\n",
       "4       40.25  13.92    25.12   26.33   130.33   2.23             AB"
      ]
     },
     "execution_count": 1,
     "metadata": {},
     "output_type": "execute_result"
    }
   ],
   "source": [
    "# Python cell to read data from file into dataframe df\n",
    "import pandas as pd\n",
    "df=pd.read_csv('column_2C.DAT',delimiter=' ')\n",
    "df.columns=['pIncidence','pTilt','llAngle','sSlope','pRadius','spon','classification']\n",
    "df.head()"
   ]
  },
  {
   "cell_type": "code",
   "execution_count": 2,
   "metadata": {},
   "outputs": [
    {
     "name": "stdout",
     "output_type": "stream",
     "text": [
      "start of Problem 1 Solution\n"
     ]
    }
   ],
   "source": [
    "# Problem 1 \n",
    "'''\n",
    "Fit a decision tree (DecisionTreeClassifier) with default \n",
    "parameters (all blank) to the Vertebral data set. Report the \n",
    "accuracy of the decision tree for both the training and \n",
    "testing data sets. Also generate a confusion matrix and \n",
    "use graphviz to generate a graphical decision tree.\n",
    "'''\n",
    "\n",
    "print(\"start of Problem 1 Solution\")"
   ]
  },
  {
   "cell_type": "code",
   "execution_count": 3,
   "metadata": {},
   "outputs": [
    {
     "name": "stdout",
     "output_type": "stream",
     "text": [
      "start of Problem 2 Solution\n"
     ]
    }
   ],
   "source": [
    "# Problem 2\n",
    "'''\n",
    "Select a parameter for the decision tree created in \n",
    "Problem 1 and change its value and refit the model. \n",
    "Explain the reason for selecting your parameter and \n",
    "the impact that you expect to observe upon the structure \n",
    "and performance of the decision tree. Once again, \n",
    "calculate accuracy scores for both the training and \n",
    "test sets, generate a confusion matrix and use graphviz \n",
    "to generate a graphical decision tree. Did the change in \n",
    "parameters meet your expectations? (please explain)\n",
    "'''\n",
    "\n",
    "print(\"start of Problem 2 Solution\")"
   ]
  },
  {
   "cell_type": "code",
   "execution_count": 4,
   "metadata": {},
   "outputs": [
    {
     "name": "stdout",
     "output_type": "stream",
     "text": [
      "Start of Problem 3\n"
     ]
    }
   ],
   "source": [
    "# Problem 3\n",
    "'''\n",
    "Use the extreme gradient boost \n",
    "classifier (GradientBoostClassifier) to fit a model  \n",
    "with default parameters (all blank) to the Vertebral \n",
    "data set. Report the accuracy of the decision tree for \n",
    "both the training and testing data sets as well as \n",
    "generate a confusion matrix.\n",
    "'''\n",
    "\n",
    "print(\"Start of Problem 3\")\n",
    "\n"
   ]
  },
  {
   "cell_type": "code",
   "execution_count": 5,
   "metadata": {},
   "outputs": [
    {
     "name": "stdout",
     "output_type": "stream",
     "text": [
      "Start of Problem 4\n"
     ]
    }
   ],
   "source": [
    "# Problem 4\n",
    "'''\n",
    "Select a parameter for the extreme gradient boost \n",
    "classifier model created in Problem 3 and change its \n",
    "value and refit the model. Ideally, you will select \n",
    "a different parameter than the one used in Problems 2. \n",
    "Explain the reason for selecting your parameter and the \n",
    "impact that you expect to observe upon the structure and \n",
    "performance of the model. Once again, calculate accuracy \n",
    "scores for both the training and test sets, and generate \n",
    "a confusion matrix. Did the change in parameters meet \n",
    "your expectations? (please explain)\n",
    "'''\n",
    "\n",
    "print(\"Start of Problem 4\")"
   ]
  },
  {
   "cell_type": "code",
   "execution_count": 6,
   "metadata": {},
   "outputs": [
    {
     "name": "stdout",
     "output_type": "stream",
     "text": [
      "Start of Problem 5\n"
     ]
    }
   ],
   "source": [
    "# Problem 5\n",
    "'''\n",
    "Use the random forest classifier (RandomForestClassifier) \n",
    "to fit a model  with default parameters (all blank) to \n",
    "the Vertebral data set. Report the accuracy of the decision \n",
    "tree for both the training and testing data sets as well \n",
    "as generate a confusion matrix.\n",
    "'''\n",
    "\n",
    "print(\"Start of Problem 5\")"
   ]
  },
  {
   "cell_type": "code",
   "execution_count": 7,
   "metadata": {},
   "outputs": [
    {
     "name": "stdout",
     "output_type": "stream",
     "text": [
      "Start of Problem 6\n"
     ]
    }
   ],
   "source": [
    "# Problem 6\n",
    "'''\n",
    "Select a parameter for the random forest classifier \n",
    "model created in Problem 5 and change its value and refit \n",
    "the model. Ideally, you will select a different parameter \n",
    "than the ones used in Problems 2 and 4. Explain the reason for \n",
    "selecting your parameter and the impact that you expect to \n",
    "observe upon the structure and performance of the model. \n",
    "Once again, calculate accuracy scores for both the training \n",
    "and test sets, and generate a confusion matrix. Did the change \n",
    "in parameters meet your expectations? (please explain)\n",
    "'''\n",
    "\n",
    "print(\"Start of Problem 6\")"
   ]
  }
 ],
 "metadata": {
  "kernelspec": {
   "display_name": "Python 3 (ipykernel)",
   "language": "python",
   "name": "python3"
  },
  "language_info": {
   "codemirror_mode": {
    "name": "ipython",
    "version": 3
   },
   "file_extension": ".py",
   "mimetype": "text/x-python",
   "name": "python",
   "nbconvert_exporter": "python",
   "pygments_lexer": "ipython3",
   "version": "3.12.4"
  }
 },
 "nbformat": 4,
 "nbformat_minor": 4
}
